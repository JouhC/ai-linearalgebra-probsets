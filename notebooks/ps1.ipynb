{
 "cells": [
  {
   "cell_type": "markdown",
   "metadata": {},
   "source": [
    "## Eigenfaces and Face reconstruction\n",
    "\n",
    "Load faces.mat. This contains the matrix X with 5000 rows and 1024 columns. The columns are \n",
    "the rolled-out 32x32 pixel values of a face image. Try to reshape one row data into 32x32 matrix \n",
    "and plot the image using a grayscale colormap. The first 100 faces are shown below."
   ]
  },
  {
   "cell_type": "code",
   "execution_count": null,
   "metadata": {},
   "outputs": [],
   "source": [
    "import matplotlib.pyplot as plt\n",
    "import numpy as np\n",
    "import scipy.io\n",
    "import seaborn as sns"
   ]
  },
  {
   "cell_type": "code",
   "execution_count": null,
   "metadata": {},
   "outputs": [],
   "source": [
    "plt.rcParams['figure.figsize'] = [10, 10]\n",
    "plt.rcParams.update({'font.size': 18})\n",
    "plt.rcParams['figure.constrained_layout.use'] = True\n",
    "\n",
    "mat_contents = scipy.io.loadmat('../data/allFaces.mat')\n",
    "faces = mat_contents['faces']\n",
    "m = int(mat_contents['m'])\n",
    "n = int(mat_contents['n'])\n",
    "nfaces = np.ndarray.flatten(mat_contents['nfaces'])\n",
    "\n",
    "y = np.zeros((faces.shape[1],)) # Creating labels\n",
    "j = 0\n",
    "classes = list(range(len(nfaces)))\n",
    "for i in nfaces:\n",
    "  y[j:j+i] = classes.pop(0)\n",
    "  j = j + i\n",
    "\n",
    "print(\"Total dataset size:\")\n",
    "print(f\"n_samples: {faces.shape[1]}\")\n",
    "print(f\"n_features: {m*n}\")\n",
    "print(f\"n_classes: {len(nfaces)}\")"
   ]
  }
 ],
 "metadata": {
  "kernelspec": {
   "display_name": ".venv",
   "language": "python",
   "name": "python3"
  },
  "language_info": {
   "codemirror_mode": {
    "name": "ipython",
    "version": 3
   },
   "file_extension": ".py",
   "mimetype": "text/x-python",
   "name": "python",
   "nbconvert_exporter": "python",
   "pygments_lexer": "ipython3",
   "version": "3.11.9"
  }
 },
 "nbformat": 4,
 "nbformat_minor": 2
}
