{
 "cells": [
  {
   "cell_type": "markdown",
   "metadata": {},
   "source": [
    "# Problem Set 2: Nonlinear vs Linearized Least Squares Regression\n",
    "\n",
    "AI 211 | 2nd Sem AY 2023-2024\n",
    "\n",
    "Students:  \n",
    "Joshua Cantor  \n",
    "Michael Spencer Quinto\n"
   ]
  },
  {
   "cell_type": "code",
   "execution_count": 3,
   "metadata": {},
   "outputs": [],
   "source": [
    "import numpy as np\n",
    "import matplotlib.pyplot as plt\n",
    "\n",
    "from numpy import ndarray"
   ]
  },
  {
   "cell_type": "markdown",
   "metadata": {},
   "source": [
    "# Nonlinear vs Linearized Least Squares Regression\n",
    "\n",
    "The Michaelis-Menten equation describes the chemical kinetics of enzyme reactions. According to this equation, if $v_0$ is the initial velocity, $v_{max}$, the maximum velocity, $K_m$ is the Michaelis constant for the reaction and $C$ is the substrate concentration, then\n",
    "\n",
    "$v_0 = \\frac{v_{max}}{1 + \\frac{K_m}{C}}.$\n",
    "\n",
    "In a typical experiment, $v_0$ is measured as $C$ is varied, and then $v_{max}$ and $K_m$ are determined from the resulting data using curve fitting.\n",
    "\n",
    "| C    | v_0   |\n",
    "| ---- | ----- |\n",
    "| 2.5  | 0.024 |\n",
    "| 5.0  | 0.036 |\n",
    "| 10.0 | 0.053 |\n",
    "| 15.0 | 0.060 |\n",
    "| 20.0 | 0.064 |\n"
   ]
  },
  {
   "cell_type": "code",
   "execution_count": null,
   "metadata": {},
   "outputs": [],
   "source": []
  },
  {
   "cell_type": "code",
   "execution_count": null,
   "metadata": {},
   "outputs": [],
   "source": []
  },
  {
   "cell_type": "code",
   "execution_count": null,
   "metadata": {},
   "outputs": [],
   "source": []
  },
  {
   "cell_type": "code",
   "execution_count": null,
   "metadata": {},
   "outputs": [],
   "source": []
  },
  {
   "cell_type": "code",
   "execution_count": null,
   "metadata": {},
   "outputs": [],
   "source": []
  }
 ],
 "metadata": {
  "kernelspec": {
   "display_name": "upd_ai_201",
   "language": "python",
   "name": "python3"
  },
  "language_info": {
   "codemirror_mode": {
    "name": "ipython",
    "version": 3
   },
   "file_extension": ".py",
   "mimetype": "text/x-python",
   "name": "python",
   "nbconvert_exporter": "python",
   "pygments_lexer": "ipython3",
   "version": "3.12.0"
  }
 },
 "nbformat": 4,
 "nbformat_minor": 2
}
