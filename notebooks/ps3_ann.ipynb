{
 "cells": [
  {
   "cell_type": "markdown",
   "metadata": {},
   "source": [
    "# Problem Set 3: ANN | Handwritten Digit Recognition on the MNIST dataset\n",
    "\n",
    "AI 211 | 2nd Sem AY 2023-2024\n",
    "\n",
    "Students:  \n",
    "Joshua Cantor  \n",
    "Michael Spencer Quinto\n"
   ]
  },
  {
   "cell_type": "code",
   "execution_count": 97,
   "metadata": {},
   "outputs": [],
   "source": [
    "import numpy as np\n",
    "import matplotlib.pyplot as plt\n",
    "import scipy.io\n",
    "import pandas as pd\n",
    "import warnings\n",
    "\n",
    "from sklearn.model_selection import (\n",
    "    train_test_split,\n",
    ")  # only used for the trian-validation split\n",
    "from numpy import ndarray\n",
    "from typing import Optional\n",
    "from IPython.display import display\n",
    "\n",
    "warnings.filterwarnings(\"ignore\")\n",
    "np.set_printoptions(suppress=True, threshold=30)\n",
    "pd.set_option(\"display.max_columns\", 50)"
   ]
  },
  {
   "cell_type": "code",
   "execution_count": 62,
   "metadata": {},
   "outputs": [],
   "source": [
    "mnist = scipy.io.loadmat(\"../raw-data/mnist.mat\")\n",
    "X: ndarray = mnist[\"X\"]\n",
    "y: ndarray = mnist[\"y\"]"
   ]
  },
  {
   "cell_type": "code",
   "execution_count": 4,
   "metadata": {},
   "outputs": [
    {
     "data": {
      "text/plain": [
       "(5000, 400)"
      ]
     },
     "metadata": {},
     "output_type": "display_data"
    },
    {
     "data": {
      "text/plain": [
       "(5000, 1)"
      ]
     },
     "metadata": {},
     "output_type": "display_data"
    }
   ],
   "source": [
    "display(X.shape)\n",
    "display(y.shape)"
   ]
  },
  {
   "cell_type": "code",
   "execution_count": 5,
   "metadata": {},
   "outputs": [
    {
     "data": {
      "text/plain": [
       "array([0., 0., 0., ..., 0., 0., 0.])"
      ]
     },
     "metadata": {},
     "output_type": "display_data"
    },
    {
     "data": {
      "text/plain": [
       "(400,)"
      ]
     },
     "metadata": {},
     "output_type": "display_data"
    }
   ],
   "source": [
    "display(X[0])\n",
    "display(X[0].shape)"
   ]
  },
  {
   "cell_type": "markdown",
   "metadata": {},
   "source": [
    "# MNIST Dataframe\n"
   ]
  },
  {
   "cell_type": "code",
   "execution_count": 39,
   "metadata": {},
   "outputs": [
    {
     "data": {
      "text/html": [
       "<div>\n",
       "<style scoped>\n",
       "    .dataframe tbody tr th:only-of-type {\n",
       "        vertical-align: middle;\n",
       "    }\n",
       "\n",
       "    .dataframe tbody tr th {\n",
       "        vertical-align: top;\n",
       "    }\n",
       "\n",
       "    .dataframe thead th {\n",
       "        text-align: right;\n",
       "    }\n",
       "</style>\n",
       "<table border=\"1\" class=\"dataframe\">\n",
       "  <thead>\n",
       "    <tr style=\"text-align: right;\">\n",
       "      <th></th>\n",
       "      <th>y</th>\n",
       "      <th>px_0</th>\n",
       "      <th>px_1</th>\n",
       "      <th>px_2</th>\n",
       "      <th>px_3</th>\n",
       "      <th>px_4</th>\n",
       "      <th>px_5</th>\n",
       "      <th>px_6</th>\n",
       "      <th>px_7</th>\n",
       "      <th>px_8</th>\n",
       "      <th>px_9</th>\n",
       "      <th>px_10</th>\n",
       "      <th>px_11</th>\n",
       "      <th>px_12</th>\n",
       "      <th>px_13</th>\n",
       "      <th>px_14</th>\n",
       "      <th>px_15</th>\n",
       "      <th>px_16</th>\n",
       "      <th>px_17</th>\n",
       "      <th>px_18</th>\n",
       "      <th>px_19</th>\n",
       "      <th>px_20</th>\n",
       "      <th>px_21</th>\n",
       "      <th>px_22</th>\n",
       "      <th>px_23</th>\n",
       "      <th>...</th>\n",
       "      <th>px_375</th>\n",
       "      <th>px_376</th>\n",
       "      <th>px_377</th>\n",
       "      <th>px_378</th>\n",
       "      <th>px_379</th>\n",
       "      <th>px_380</th>\n",
       "      <th>px_381</th>\n",
       "      <th>px_382</th>\n",
       "      <th>px_383</th>\n",
       "      <th>px_384</th>\n",
       "      <th>px_385</th>\n",
       "      <th>px_386</th>\n",
       "      <th>px_387</th>\n",
       "      <th>px_388</th>\n",
       "      <th>px_389</th>\n",
       "      <th>px_390</th>\n",
       "      <th>px_391</th>\n",
       "      <th>px_392</th>\n",
       "      <th>px_393</th>\n",
       "      <th>px_394</th>\n",
       "      <th>px_395</th>\n",
       "      <th>px_396</th>\n",
       "      <th>px_397</th>\n",
       "      <th>px_398</th>\n",
       "      <th>px_399</th>\n",
       "    </tr>\n",
       "  </thead>\n",
       "  <tbody>\n",
       "    <tr>\n",
       "      <th>0</th>\n",
       "      <td>10.0</td>\n",
       "      <td>0.0</td>\n",
       "      <td>0.0</td>\n",
       "      <td>0.0</td>\n",
       "      <td>0.0</td>\n",
       "      <td>0.0</td>\n",
       "      <td>0.0</td>\n",
       "      <td>0.0</td>\n",
       "      <td>0.0</td>\n",
       "      <td>0.0</td>\n",
       "      <td>0.0</td>\n",
       "      <td>0.0</td>\n",
       "      <td>0.0</td>\n",
       "      <td>0.0</td>\n",
       "      <td>0.0</td>\n",
       "      <td>0.0</td>\n",
       "      <td>0.0</td>\n",
       "      <td>0.0</td>\n",
       "      <td>0.0</td>\n",
       "      <td>0.0</td>\n",
       "      <td>0.0</td>\n",
       "      <td>0.0</td>\n",
       "      <td>0.0</td>\n",
       "      <td>0.0</td>\n",
       "      <td>0.0</td>\n",
       "      <td>...</td>\n",
       "      <td>0.0</td>\n",
       "      <td>0.0</td>\n",
       "      <td>0.0</td>\n",
       "      <td>0.0</td>\n",
       "      <td>0.0</td>\n",
       "      <td>0.0</td>\n",
       "      <td>0.0</td>\n",
       "      <td>0.0</td>\n",
       "      <td>0.0</td>\n",
       "      <td>0.0</td>\n",
       "      <td>0.0</td>\n",
       "      <td>0.0</td>\n",
       "      <td>0.0</td>\n",
       "      <td>0.0</td>\n",
       "      <td>0.0</td>\n",
       "      <td>0.0</td>\n",
       "      <td>0.0</td>\n",
       "      <td>0.0</td>\n",
       "      <td>0.0</td>\n",
       "      <td>0.0</td>\n",
       "      <td>0.0</td>\n",
       "      <td>0.0</td>\n",
       "      <td>0.0</td>\n",
       "      <td>0.0</td>\n",
       "      <td>0.0</td>\n",
       "    </tr>\n",
       "    <tr>\n",
       "      <th>1</th>\n",
       "      <td>10.0</td>\n",
       "      <td>0.0</td>\n",
       "      <td>0.0</td>\n",
       "      <td>0.0</td>\n",
       "      <td>0.0</td>\n",
       "      <td>0.0</td>\n",
       "      <td>0.0</td>\n",
       "      <td>0.0</td>\n",
       "      <td>0.0</td>\n",
       "      <td>0.0</td>\n",
       "      <td>0.0</td>\n",
       "      <td>0.0</td>\n",
       "      <td>0.0</td>\n",
       "      <td>0.0</td>\n",
       "      <td>0.0</td>\n",
       "      <td>0.0</td>\n",
       "      <td>0.0</td>\n",
       "      <td>0.0</td>\n",
       "      <td>0.0</td>\n",
       "      <td>0.0</td>\n",
       "      <td>0.0</td>\n",
       "      <td>0.0</td>\n",
       "      <td>0.0</td>\n",
       "      <td>0.0</td>\n",
       "      <td>0.0</td>\n",
       "      <td>...</td>\n",
       "      <td>0.0</td>\n",
       "      <td>0.0</td>\n",
       "      <td>0.0</td>\n",
       "      <td>0.0</td>\n",
       "      <td>0.0</td>\n",
       "      <td>0.0</td>\n",
       "      <td>0.0</td>\n",
       "      <td>0.0</td>\n",
       "      <td>0.0</td>\n",
       "      <td>0.0</td>\n",
       "      <td>0.0</td>\n",
       "      <td>0.0</td>\n",
       "      <td>0.0</td>\n",
       "      <td>0.0</td>\n",
       "      <td>0.0</td>\n",
       "      <td>0.0</td>\n",
       "      <td>0.0</td>\n",
       "      <td>0.0</td>\n",
       "      <td>0.0</td>\n",
       "      <td>0.0</td>\n",
       "      <td>0.0</td>\n",
       "      <td>0.0</td>\n",
       "      <td>0.0</td>\n",
       "      <td>0.0</td>\n",
       "      <td>0.0</td>\n",
       "    </tr>\n",
       "  </tbody>\n",
       "</table>\n",
       "<p>2 rows × 401 columns</p>\n",
       "</div>"
      ],
      "text/plain": [
       "      y  px_0  px_1  px_2  px_3  px_4  px_5  px_6  px_7  px_8  px_9  px_10  \\\n",
       "0  10.0   0.0   0.0   0.0   0.0   0.0   0.0   0.0   0.0   0.0   0.0    0.0   \n",
       "1  10.0   0.0   0.0   0.0   0.0   0.0   0.0   0.0   0.0   0.0   0.0    0.0   \n",
       "\n",
       "   px_11  px_12  px_13  px_14  px_15  px_16  px_17  px_18  px_19  px_20  \\\n",
       "0    0.0    0.0    0.0    0.0    0.0    0.0    0.0    0.0    0.0    0.0   \n",
       "1    0.0    0.0    0.0    0.0    0.0    0.0    0.0    0.0    0.0    0.0   \n",
       "\n",
       "   px_21  px_22  px_23  ...  px_375  px_376  px_377  px_378  px_379  px_380  \\\n",
       "0    0.0    0.0    0.0  ...     0.0     0.0     0.0     0.0     0.0     0.0   \n",
       "1    0.0    0.0    0.0  ...     0.0     0.0     0.0     0.0     0.0     0.0   \n",
       "\n",
       "   px_381  px_382  px_383  px_384  px_385  px_386  px_387  px_388  px_389  \\\n",
       "0     0.0     0.0     0.0     0.0     0.0     0.0     0.0     0.0     0.0   \n",
       "1     0.0     0.0     0.0     0.0     0.0     0.0     0.0     0.0     0.0   \n",
       "\n",
       "   px_390  px_391  px_392  px_393  px_394  px_395  px_396  px_397  px_398  \\\n",
       "0     0.0     0.0     0.0     0.0     0.0     0.0     0.0     0.0     0.0   \n",
       "1     0.0     0.0     0.0     0.0     0.0     0.0     0.0     0.0     0.0   \n",
       "\n",
       "   px_399  \n",
       "0     0.0  \n",
       "1     0.0  \n",
       "\n",
       "[2 rows x 401 columns]"
      ]
     },
     "metadata": {},
     "output_type": "display_data"
    },
    {
     "data": {
      "text/html": [
       "<div>\n",
       "<style scoped>\n",
       "    .dataframe tbody tr th:only-of-type {\n",
       "        vertical-align: middle;\n",
       "    }\n",
       "\n",
       "    .dataframe tbody tr th {\n",
       "        vertical-align: top;\n",
       "    }\n",
       "\n",
       "    .dataframe thead th {\n",
       "        text-align: right;\n",
       "    }\n",
       "</style>\n",
       "<table border=\"1\" class=\"dataframe\">\n",
       "  <thead>\n",
       "    <tr style=\"text-align: right;\">\n",
       "      <th></th>\n",
       "      <th>y</th>\n",
       "      <th>px_0</th>\n",
       "      <th>px_1</th>\n",
       "      <th>px_2</th>\n",
       "      <th>px_3</th>\n",
       "      <th>px_4</th>\n",
       "      <th>px_5</th>\n",
       "      <th>px_6</th>\n",
       "      <th>px_7</th>\n",
       "      <th>px_8</th>\n",
       "      <th>px_9</th>\n",
       "      <th>px_10</th>\n",
       "      <th>px_11</th>\n",
       "      <th>px_12</th>\n",
       "      <th>px_13</th>\n",
       "      <th>px_14</th>\n",
       "      <th>px_15</th>\n",
       "      <th>px_16</th>\n",
       "      <th>px_17</th>\n",
       "      <th>px_18</th>\n",
       "      <th>px_19</th>\n",
       "      <th>px_20</th>\n",
       "      <th>px_21</th>\n",
       "      <th>px_22</th>\n",
       "      <th>px_23</th>\n",
       "      <th>...</th>\n",
       "      <th>px_375</th>\n",
       "      <th>px_376</th>\n",
       "      <th>px_377</th>\n",
       "      <th>px_378</th>\n",
       "      <th>px_379</th>\n",
       "      <th>px_380</th>\n",
       "      <th>px_381</th>\n",
       "      <th>px_382</th>\n",
       "      <th>px_383</th>\n",
       "      <th>px_384</th>\n",
       "      <th>px_385</th>\n",
       "      <th>px_386</th>\n",
       "      <th>px_387</th>\n",
       "      <th>px_388</th>\n",
       "      <th>px_389</th>\n",
       "      <th>px_390</th>\n",
       "      <th>px_391</th>\n",
       "      <th>px_392</th>\n",
       "      <th>px_393</th>\n",
       "      <th>px_394</th>\n",
       "      <th>px_395</th>\n",
       "      <th>px_396</th>\n",
       "      <th>px_397</th>\n",
       "      <th>px_398</th>\n",
       "      <th>px_399</th>\n",
       "    </tr>\n",
       "  </thead>\n",
       "  <tbody>\n",
       "    <tr>\n",
       "      <th>500</th>\n",
       "      <td>1.0</td>\n",
       "      <td>0.0</td>\n",
       "      <td>0.0</td>\n",
       "      <td>0.0</td>\n",
       "      <td>0.0</td>\n",
       "      <td>0.0</td>\n",
       "      <td>0.0</td>\n",
       "      <td>0.0</td>\n",
       "      <td>0.0</td>\n",
       "      <td>0.0</td>\n",
       "      <td>0.0</td>\n",
       "      <td>0.0</td>\n",
       "      <td>0.0</td>\n",
       "      <td>0.0</td>\n",
       "      <td>0.0</td>\n",
       "      <td>0.0</td>\n",
       "      <td>0.0</td>\n",
       "      <td>0.0</td>\n",
       "      <td>0.0</td>\n",
       "      <td>0.0</td>\n",
       "      <td>0.0</td>\n",
       "      <td>0.0</td>\n",
       "      <td>0.0</td>\n",
       "      <td>0.0</td>\n",
       "      <td>0.0</td>\n",
       "      <td>...</td>\n",
       "      <td>0.0</td>\n",
       "      <td>0.0</td>\n",
       "      <td>0.0</td>\n",
       "      <td>0.0</td>\n",
       "      <td>0.0</td>\n",
       "      <td>0.0</td>\n",
       "      <td>0.0</td>\n",
       "      <td>0.0</td>\n",
       "      <td>0.0</td>\n",
       "      <td>0.0</td>\n",
       "      <td>0.0</td>\n",
       "      <td>0.0</td>\n",
       "      <td>0.0</td>\n",
       "      <td>0.0</td>\n",
       "      <td>0.0</td>\n",
       "      <td>0.0</td>\n",
       "      <td>0.0</td>\n",
       "      <td>0.0</td>\n",
       "      <td>0.0</td>\n",
       "      <td>0.0</td>\n",
       "      <td>0.0</td>\n",
       "      <td>0.0</td>\n",
       "      <td>0.0</td>\n",
       "      <td>0.0</td>\n",
       "      <td>0.0</td>\n",
       "    </tr>\n",
       "    <tr>\n",
       "      <th>501</th>\n",
       "      <td>1.0</td>\n",
       "      <td>0.0</td>\n",
       "      <td>0.0</td>\n",
       "      <td>0.0</td>\n",
       "      <td>0.0</td>\n",
       "      <td>0.0</td>\n",
       "      <td>0.0</td>\n",
       "      <td>0.0</td>\n",
       "      <td>0.0</td>\n",
       "      <td>0.0</td>\n",
       "      <td>0.0</td>\n",
       "      <td>0.0</td>\n",
       "      <td>0.0</td>\n",
       "      <td>0.0</td>\n",
       "      <td>0.0</td>\n",
       "      <td>0.0</td>\n",
       "      <td>0.0</td>\n",
       "      <td>0.0</td>\n",
       "      <td>0.0</td>\n",
       "      <td>0.0</td>\n",
       "      <td>0.0</td>\n",
       "      <td>0.0</td>\n",
       "      <td>0.0</td>\n",
       "      <td>0.0</td>\n",
       "      <td>0.0</td>\n",
       "      <td>...</td>\n",
       "      <td>0.0</td>\n",
       "      <td>0.0</td>\n",
       "      <td>0.0</td>\n",
       "      <td>0.0</td>\n",
       "      <td>0.0</td>\n",
       "      <td>0.0</td>\n",
       "      <td>0.0</td>\n",
       "      <td>0.0</td>\n",
       "      <td>0.0</td>\n",
       "      <td>0.0</td>\n",
       "      <td>0.0</td>\n",
       "      <td>0.0</td>\n",
       "      <td>0.0</td>\n",
       "      <td>0.0</td>\n",
       "      <td>0.0</td>\n",
       "      <td>0.0</td>\n",
       "      <td>0.0</td>\n",
       "      <td>0.0</td>\n",
       "      <td>0.0</td>\n",
       "      <td>0.0</td>\n",
       "      <td>0.0</td>\n",
       "      <td>0.0</td>\n",
       "      <td>0.0</td>\n",
       "      <td>0.0</td>\n",
       "      <td>0.0</td>\n",
       "    </tr>\n",
       "  </tbody>\n",
       "</table>\n",
       "<p>2 rows × 401 columns</p>\n",
       "</div>"
      ],
      "text/plain": [
       "       y  px_0  px_1  px_2  px_3  px_4  px_5  px_6  px_7  px_8  px_9  px_10  \\\n",
       "500  1.0   0.0   0.0   0.0   0.0   0.0   0.0   0.0   0.0   0.0   0.0    0.0   \n",
       "501  1.0   0.0   0.0   0.0   0.0   0.0   0.0   0.0   0.0   0.0   0.0    0.0   \n",
       "\n",
       "     px_11  px_12  px_13  px_14  px_15  px_16  px_17  px_18  px_19  px_20  \\\n",
       "500    0.0    0.0    0.0    0.0    0.0    0.0    0.0    0.0    0.0    0.0   \n",
       "501    0.0    0.0    0.0    0.0    0.0    0.0    0.0    0.0    0.0    0.0   \n",
       "\n",
       "     px_21  px_22  px_23  ...  px_375  px_376  px_377  px_378  px_379  px_380  \\\n",
       "500    0.0    0.0    0.0  ...     0.0     0.0     0.0     0.0     0.0     0.0   \n",
       "501    0.0    0.0    0.0  ...     0.0     0.0     0.0     0.0     0.0     0.0   \n",
       "\n",
       "     px_381  px_382  px_383  px_384  px_385  px_386  px_387  px_388  px_389  \\\n",
       "500     0.0     0.0     0.0     0.0     0.0     0.0     0.0     0.0     0.0   \n",
       "501     0.0     0.0     0.0     0.0     0.0     0.0     0.0     0.0     0.0   \n",
       "\n",
       "     px_390  px_391  px_392  px_393  px_394  px_395  px_396  px_397  px_398  \\\n",
       "500     0.0     0.0     0.0     0.0     0.0     0.0     0.0     0.0     0.0   \n",
       "501     0.0     0.0     0.0     0.0     0.0     0.0     0.0     0.0     0.0   \n",
       "\n",
       "     px_399  \n",
       "500     0.0  \n",
       "501     0.0  \n",
       "\n",
       "[2 rows x 401 columns]"
      ]
     },
     "metadata": {},
     "output_type": "display_data"
    }
   ],
   "source": [
    "s = np.hstack((y, X))\n",
    "mnist_df = pd.DataFrame(s, columns=[\"y\"] + [f\"px_{i}\" for i in range(400)])\n",
    "display(mnist_df.head(2))\n",
    "display(mnist_df.iloc[500:502])"
   ]
  },
  {
   "cell_type": "code",
   "execution_count": 40,
   "metadata": {},
   "outputs": [
    {
     "data": {
      "text/plain": [
       "y\n",
       "10.0    500\n",
       "1.0     500\n",
       "2.0     500\n",
       "3.0     500\n",
       "4.0     500\n",
       "5.0     500\n",
       "6.0     500\n",
       "7.0     500\n",
       "8.0     500\n",
       "9.0     500\n",
       "Name: count, dtype: int64"
      ]
     },
     "execution_count": 40,
     "metadata": {},
     "output_type": "execute_result"
    }
   ],
   "source": [
    "mnist_df[\"y\"].value_counts()"
   ]
  },
  {
   "cell_type": "code",
   "execution_count": 101,
   "metadata": {},
   "outputs": [
    {
     "data": {
      "text/html": [
       "<div>\n",
       "<style scoped>\n",
       "    .dataframe tbody tr th:only-of-type {\n",
       "        vertical-align: middle;\n",
       "    }\n",
       "\n",
       "    .dataframe tbody tr th {\n",
       "        vertical-align: top;\n",
       "    }\n",
       "\n",
       "    .dataframe thead th {\n",
       "        text-align: right;\n",
       "    }\n",
       "</style>\n",
       "<table border=\"1\" class=\"dataframe\">\n",
       "  <thead>\n",
       "    <tr style=\"text-align: right;\">\n",
       "      <th></th>\n",
       "      <th>y</th>\n",
       "      <th>px_0</th>\n",
       "      <th>px_1</th>\n",
       "      <th>px_2</th>\n",
       "      <th>px_3</th>\n",
       "      <th>px_4</th>\n",
       "      <th>px_5</th>\n",
       "      <th>px_6</th>\n",
       "      <th>px_7</th>\n",
       "      <th>px_8</th>\n",
       "      <th>px_9</th>\n",
       "      <th>px_10</th>\n",
       "      <th>px_11</th>\n",
       "      <th>px_12</th>\n",
       "      <th>px_13</th>\n",
       "      <th>px_14</th>\n",
       "      <th>px_15</th>\n",
       "      <th>px_16</th>\n",
       "      <th>px_17</th>\n",
       "      <th>px_18</th>\n",
       "      <th>px_19</th>\n",
       "      <th>px_20</th>\n",
       "      <th>px_21</th>\n",
       "      <th>px_22</th>\n",
       "      <th>px_23</th>\n",
       "      <th>...</th>\n",
       "      <th>px_375</th>\n",
       "      <th>px_376</th>\n",
       "      <th>px_377</th>\n",
       "      <th>px_378</th>\n",
       "      <th>px_379</th>\n",
       "      <th>px_380</th>\n",
       "      <th>px_381</th>\n",
       "      <th>px_382</th>\n",
       "      <th>px_383</th>\n",
       "      <th>px_384</th>\n",
       "      <th>px_385</th>\n",
       "      <th>px_386</th>\n",
       "      <th>px_387</th>\n",
       "      <th>px_388</th>\n",
       "      <th>px_389</th>\n",
       "      <th>px_390</th>\n",
       "      <th>px_391</th>\n",
       "      <th>px_392</th>\n",
       "      <th>px_393</th>\n",
       "      <th>px_394</th>\n",
       "      <th>px_395</th>\n",
       "      <th>px_396</th>\n",
       "      <th>px_397</th>\n",
       "      <th>px_398</th>\n",
       "      <th>px_399</th>\n",
       "    </tr>\n",
       "  </thead>\n",
       "  <tbody>\n",
       "    <tr>\n",
       "      <th>0</th>\n",
       "      <td>0.0</td>\n",
       "      <td>0.0</td>\n",
       "      <td>0.0</td>\n",
       "      <td>0.0</td>\n",
       "      <td>0.0</td>\n",
       "      <td>0.0</td>\n",
       "      <td>0.0</td>\n",
       "      <td>0.0</td>\n",
       "      <td>0.0</td>\n",
       "      <td>0.0</td>\n",
       "      <td>0.0</td>\n",
       "      <td>0.0</td>\n",
       "      <td>0.0</td>\n",
       "      <td>0.0</td>\n",
       "      <td>0.0</td>\n",
       "      <td>0.0</td>\n",
       "      <td>0.0</td>\n",
       "      <td>0.0</td>\n",
       "      <td>0.0</td>\n",
       "      <td>0.0</td>\n",
       "      <td>0.0</td>\n",
       "      <td>0.0</td>\n",
       "      <td>0.0</td>\n",
       "      <td>0.0</td>\n",
       "      <td>0.0</td>\n",
       "      <td>...</td>\n",
       "      <td>0.0</td>\n",
       "      <td>0.0</td>\n",
       "      <td>0.0</td>\n",
       "      <td>0.0</td>\n",
       "      <td>0.0</td>\n",
       "      <td>0.0</td>\n",
       "      <td>0.0</td>\n",
       "      <td>0.0</td>\n",
       "      <td>0.0</td>\n",
       "      <td>0.0</td>\n",
       "      <td>0.0</td>\n",
       "      <td>0.0</td>\n",
       "      <td>0.0</td>\n",
       "      <td>0.0</td>\n",
       "      <td>0.0</td>\n",
       "      <td>0.0</td>\n",
       "      <td>0.0</td>\n",
       "      <td>0.0</td>\n",
       "      <td>0.0</td>\n",
       "      <td>0.0</td>\n",
       "      <td>0.0</td>\n",
       "      <td>0.0</td>\n",
       "      <td>0.0</td>\n",
       "      <td>0.0</td>\n",
       "      <td>0.0</td>\n",
       "    </tr>\n",
       "    <tr>\n",
       "      <th>1</th>\n",
       "      <td>0.0</td>\n",
       "      <td>0.0</td>\n",
       "      <td>0.0</td>\n",
       "      <td>0.0</td>\n",
       "      <td>0.0</td>\n",
       "      <td>0.0</td>\n",
       "      <td>0.0</td>\n",
       "      <td>0.0</td>\n",
       "      <td>0.0</td>\n",
       "      <td>0.0</td>\n",
       "      <td>0.0</td>\n",
       "      <td>0.0</td>\n",
       "      <td>0.0</td>\n",
       "      <td>0.0</td>\n",
       "      <td>0.0</td>\n",
       "      <td>0.0</td>\n",
       "      <td>0.0</td>\n",
       "      <td>0.0</td>\n",
       "      <td>0.0</td>\n",
       "      <td>0.0</td>\n",
       "      <td>0.0</td>\n",
       "      <td>0.0</td>\n",
       "      <td>0.0</td>\n",
       "      <td>0.0</td>\n",
       "      <td>0.0</td>\n",
       "      <td>...</td>\n",
       "      <td>0.0</td>\n",
       "      <td>0.0</td>\n",
       "      <td>0.0</td>\n",
       "      <td>0.0</td>\n",
       "      <td>0.0</td>\n",
       "      <td>0.0</td>\n",
       "      <td>0.0</td>\n",
       "      <td>0.0</td>\n",
       "      <td>0.0</td>\n",
       "      <td>0.0</td>\n",
       "      <td>0.0</td>\n",
       "      <td>0.0</td>\n",
       "      <td>0.0</td>\n",
       "      <td>0.0</td>\n",
       "      <td>0.0</td>\n",
       "      <td>0.0</td>\n",
       "      <td>0.0</td>\n",
       "      <td>0.0</td>\n",
       "      <td>0.0</td>\n",
       "      <td>0.0</td>\n",
       "      <td>0.0</td>\n",
       "      <td>0.0</td>\n",
       "      <td>0.0</td>\n",
       "      <td>0.0</td>\n",
       "      <td>0.0</td>\n",
       "    </tr>\n",
       "  </tbody>\n",
       "</table>\n",
       "<p>2 rows × 401 columns</p>\n",
       "</div>"
      ],
      "text/plain": [
       "     y  px_0  px_1  px_2  px_3  px_4  px_5  px_6  px_7  px_8  px_9  px_10  \\\n",
       "0  0.0   0.0   0.0   0.0   0.0   0.0   0.0   0.0   0.0   0.0   0.0    0.0   \n",
       "1  0.0   0.0   0.0   0.0   0.0   0.0   0.0   0.0   0.0   0.0   0.0    0.0   \n",
       "\n",
       "   px_11  px_12  px_13  px_14  px_15  px_16  px_17  px_18  px_19  px_20  \\\n",
       "0    0.0    0.0    0.0    0.0    0.0    0.0    0.0    0.0    0.0    0.0   \n",
       "1    0.0    0.0    0.0    0.0    0.0    0.0    0.0    0.0    0.0    0.0   \n",
       "\n",
       "   px_21  px_22  px_23  ...  px_375  px_376  px_377  px_378  px_379  px_380  \\\n",
       "0    0.0    0.0    0.0  ...     0.0     0.0     0.0     0.0     0.0     0.0   \n",
       "1    0.0    0.0    0.0  ...     0.0     0.0     0.0     0.0     0.0     0.0   \n",
       "\n",
       "   px_381  px_382  px_383  px_384  px_385  px_386  px_387  px_388  px_389  \\\n",
       "0     0.0     0.0     0.0     0.0     0.0     0.0     0.0     0.0     0.0   \n",
       "1     0.0     0.0     0.0     0.0     0.0     0.0     0.0     0.0     0.0   \n",
       "\n",
       "   px_390  px_391  px_392  px_393  px_394  px_395  px_396  px_397  px_398  \\\n",
       "0     0.0     0.0     0.0     0.0     0.0     0.0     0.0     0.0     0.0   \n",
       "1     0.0     0.0     0.0     0.0     0.0     0.0     0.0     0.0     0.0   \n",
       "\n",
       "   px_399  \n",
       "0     0.0  \n",
       "1     0.0  \n",
       "\n",
       "[2 rows x 401 columns]"
      ]
     },
     "metadata": {},
     "output_type": "display_data"
    },
    {
     "data": {
      "text/plain": [
       "y\n",
       "0.0    500\n",
       "1.0    500\n",
       "2.0    500\n",
       "3.0    500\n",
       "4.0    500\n",
       "5.0    500\n",
       "6.0    500\n",
       "7.0    500\n",
       "8.0    500\n",
       "9.0    500\n",
       "Name: count, dtype: int64"
      ]
     },
     "metadata": {},
     "output_type": "display_data"
    }
   ],
   "source": [
    "# replace 10 with 0, the actual class label for the number zero\n",
    "mnist_df[\"y\"] = mnist_df[\"y\"].replace(10, 0)\n",
    "display(mnist_df.head(2))\n",
    "display(mnist_df[\"y\"].value_counts())"
   ]
  },
  {
   "cell_type": "markdown",
   "metadata": {},
   "source": [
    "# Train-Validation Split\n"
   ]
  },
  {
   "cell_type": "code",
   "execution_count": 102,
   "metadata": {},
   "outputs": [
    {
     "name": "stdout",
     "output_type": "stream",
     "text": [
      "Training feature set shape: (4250, 400)\n",
      "Validation feature set shape: (750, 400)\n",
      "Training target set shape: (4250,)\n",
      "Validation target set shape: (750,)\n"
     ]
    }
   ],
   "source": [
    "X_df = mnist_df.drop(columns=[\"y\"])\n",
    "y_df = mnist_df[\"y\"]\n",
    "raw_split: list[pd.DataFrame] = train_test_split(\n",
    "    X_df, y_df, test_size=0.15, random_state=42\n",
    ")\n",
    "\n",
    "X_train, X_val, y_train, y_val = raw_split\n",
    "\n",
    "print(\"Training feature set shape:\", X_train.shape)\n",
    "print(\"Validation feature set shape:\", X_val.shape)\n",
    "print(\"Training target set shape:\", y_train.shape)\n",
    "print(\"Validation target set shape:\", y_val.shape)"
   ]
  },
  {
   "cell_type": "code",
   "execution_count": 103,
   "metadata": {},
   "outputs": [
    {
     "data": {
      "text/html": [
       "<div>\n",
       "<style scoped>\n",
       "    .dataframe tbody tr th:only-of-type {\n",
       "        vertical-align: middle;\n",
       "    }\n",
       "\n",
       "    .dataframe tbody tr th {\n",
       "        vertical-align: top;\n",
       "    }\n",
       "\n",
       "    .dataframe thead th {\n",
       "        text-align: right;\n",
       "    }\n",
       "</style>\n",
       "<table border=\"1\" class=\"dataframe\">\n",
       "  <thead>\n",
       "    <tr style=\"text-align: right;\">\n",
       "      <th></th>\n",
       "      <th>px_0</th>\n",
       "      <th>px_1</th>\n",
       "      <th>px_2</th>\n",
       "      <th>px_3</th>\n",
       "      <th>px_4</th>\n",
       "      <th>px_5</th>\n",
       "      <th>px_6</th>\n",
       "      <th>px_7</th>\n",
       "      <th>px_8</th>\n",
       "      <th>px_9</th>\n",
       "      <th>px_10</th>\n",
       "      <th>px_11</th>\n",
       "      <th>px_12</th>\n",
       "      <th>px_13</th>\n",
       "      <th>px_14</th>\n",
       "      <th>px_15</th>\n",
       "      <th>px_16</th>\n",
       "      <th>px_17</th>\n",
       "      <th>px_18</th>\n",
       "      <th>px_19</th>\n",
       "      <th>px_20</th>\n",
       "      <th>px_21</th>\n",
       "      <th>px_22</th>\n",
       "      <th>px_23</th>\n",
       "      <th>px_24</th>\n",
       "      <th>...</th>\n",
       "      <th>px_375</th>\n",
       "      <th>px_376</th>\n",
       "      <th>px_377</th>\n",
       "      <th>px_378</th>\n",
       "      <th>px_379</th>\n",
       "      <th>px_380</th>\n",
       "      <th>px_381</th>\n",
       "      <th>px_382</th>\n",
       "      <th>px_383</th>\n",
       "      <th>px_384</th>\n",
       "      <th>px_385</th>\n",
       "      <th>px_386</th>\n",
       "      <th>px_387</th>\n",
       "      <th>px_388</th>\n",
       "      <th>px_389</th>\n",
       "      <th>px_390</th>\n",
       "      <th>px_391</th>\n",
       "      <th>px_392</th>\n",
       "      <th>px_393</th>\n",
       "      <th>px_394</th>\n",
       "      <th>px_395</th>\n",
       "      <th>px_396</th>\n",
       "      <th>px_397</th>\n",
       "      <th>px_398</th>\n",
       "      <th>px_399</th>\n",
       "    </tr>\n",
       "  </thead>\n",
       "  <tbody>\n",
       "    <tr>\n",
       "      <th>2347</th>\n",
       "      <td>0.0</td>\n",
       "      <td>0.0</td>\n",
       "      <td>0.0</td>\n",
       "      <td>0.0</td>\n",
       "      <td>0.0</td>\n",
       "      <td>0.0</td>\n",
       "      <td>0.0</td>\n",
       "      <td>0.0</td>\n",
       "      <td>0.0</td>\n",
       "      <td>0.0</td>\n",
       "      <td>0.0</td>\n",
       "      <td>0.0</td>\n",
       "      <td>0.0</td>\n",
       "      <td>0.0</td>\n",
       "      <td>0.0</td>\n",
       "      <td>0.0</td>\n",
       "      <td>0.0</td>\n",
       "      <td>0.0</td>\n",
       "      <td>0.0</td>\n",
       "      <td>0.0</td>\n",
       "      <td>0.0</td>\n",
       "      <td>0.0</td>\n",
       "      <td>0.0</td>\n",
       "      <td>0.0</td>\n",
       "      <td>0.0</td>\n",
       "      <td>...</td>\n",
       "      <td>0.0</td>\n",
       "      <td>0.0</td>\n",
       "      <td>0.0</td>\n",
       "      <td>0.0</td>\n",
       "      <td>0.0</td>\n",
       "      <td>0.0</td>\n",
       "      <td>0.0</td>\n",
       "      <td>0.0</td>\n",
       "      <td>0.0</td>\n",
       "      <td>0.0</td>\n",
       "      <td>0.0</td>\n",
       "      <td>0.0</td>\n",
       "      <td>0.0</td>\n",
       "      <td>0.0</td>\n",
       "      <td>0.0</td>\n",
       "      <td>0.0</td>\n",
       "      <td>0.0</td>\n",
       "      <td>0.0</td>\n",
       "      <td>0.0</td>\n",
       "      <td>0.0</td>\n",
       "      <td>0.0</td>\n",
       "      <td>0.0</td>\n",
       "      <td>0.0</td>\n",
       "      <td>0.0</td>\n",
       "      <td>0.0</td>\n",
       "    </tr>\n",
       "    <tr>\n",
       "      <th>3439</th>\n",
       "      <td>0.0</td>\n",
       "      <td>0.0</td>\n",
       "      <td>0.0</td>\n",
       "      <td>0.0</td>\n",
       "      <td>0.0</td>\n",
       "      <td>0.0</td>\n",
       "      <td>0.0</td>\n",
       "      <td>0.0</td>\n",
       "      <td>0.0</td>\n",
       "      <td>0.0</td>\n",
       "      <td>0.0</td>\n",
       "      <td>0.0</td>\n",
       "      <td>0.0</td>\n",
       "      <td>0.0</td>\n",
       "      <td>0.0</td>\n",
       "      <td>0.0</td>\n",
       "      <td>0.0</td>\n",
       "      <td>0.0</td>\n",
       "      <td>0.0</td>\n",
       "      <td>0.0</td>\n",
       "      <td>0.0</td>\n",
       "      <td>0.0</td>\n",
       "      <td>0.0</td>\n",
       "      <td>0.0</td>\n",
       "      <td>0.0</td>\n",
       "      <td>...</td>\n",
       "      <td>0.0</td>\n",
       "      <td>0.0</td>\n",
       "      <td>0.0</td>\n",
       "      <td>0.0</td>\n",
       "      <td>0.0</td>\n",
       "      <td>0.0</td>\n",
       "      <td>0.0</td>\n",
       "      <td>0.0</td>\n",
       "      <td>0.0</td>\n",
       "      <td>0.0</td>\n",
       "      <td>0.0</td>\n",
       "      <td>0.0</td>\n",
       "      <td>0.0</td>\n",
       "      <td>0.0</td>\n",
       "      <td>0.0</td>\n",
       "      <td>0.0</td>\n",
       "      <td>0.0</td>\n",
       "      <td>0.0</td>\n",
       "      <td>0.0</td>\n",
       "      <td>0.0</td>\n",
       "      <td>0.0</td>\n",
       "      <td>0.0</td>\n",
       "      <td>0.0</td>\n",
       "      <td>0.0</td>\n",
       "      <td>0.0</td>\n",
       "    </tr>\n",
       "  </tbody>\n",
       "</table>\n",
       "<p>2 rows × 400 columns</p>\n",
       "</div>"
      ],
      "text/plain": [
       "      px_0  px_1  px_2  px_3  px_4  px_5  px_6  px_7  px_8  px_9  px_10  \\\n",
       "2347   0.0   0.0   0.0   0.0   0.0   0.0   0.0   0.0   0.0   0.0    0.0   \n",
       "3439   0.0   0.0   0.0   0.0   0.0   0.0   0.0   0.0   0.0   0.0    0.0   \n",
       "\n",
       "      px_11  px_12  px_13  px_14  px_15  px_16  px_17  px_18  px_19  px_20  \\\n",
       "2347    0.0    0.0    0.0    0.0    0.0    0.0    0.0    0.0    0.0    0.0   \n",
       "3439    0.0    0.0    0.0    0.0    0.0    0.0    0.0    0.0    0.0    0.0   \n",
       "\n",
       "      px_21  px_22  px_23  px_24  ...  px_375  px_376  px_377  px_378  px_379  \\\n",
       "2347    0.0    0.0    0.0    0.0  ...     0.0     0.0     0.0     0.0     0.0   \n",
       "3439    0.0    0.0    0.0    0.0  ...     0.0     0.0     0.0     0.0     0.0   \n",
       "\n",
       "      px_380  px_381  px_382  px_383  px_384  px_385  px_386  px_387  px_388  \\\n",
       "2347     0.0     0.0     0.0     0.0     0.0     0.0     0.0     0.0     0.0   \n",
       "3439     0.0     0.0     0.0     0.0     0.0     0.0     0.0     0.0     0.0   \n",
       "\n",
       "      px_389  px_390  px_391  px_392  px_393  px_394  px_395  px_396  px_397  \\\n",
       "2347     0.0     0.0     0.0     0.0     0.0     0.0     0.0     0.0     0.0   \n",
       "3439     0.0     0.0     0.0     0.0     0.0     0.0     0.0     0.0     0.0   \n",
       "\n",
       "      px_398  px_399  \n",
       "2347     0.0     0.0  \n",
       "3439     0.0     0.0  \n",
       "\n",
       "[2 rows x 400 columns]"
      ]
     },
     "metadata": {},
     "output_type": "display_data"
    },
    {
     "data": {
      "text/plain": [
       "2347    4.0\n",
       "3439    6.0\n",
       "Name: y, dtype: float64"
      ]
     },
     "metadata": {},
     "output_type": "display_data"
    }
   ],
   "source": [
    "display(X_train.head(2))\n",
    "display(y_train.head(2))"
   ]
  },
  {
   "cell_type": "code",
   "execution_count": 104,
   "metadata": {},
   "outputs": [
    {
     "data": {
      "text/plain": [
       "y\n",
       "0.0    0.097412\n",
       "1.0    0.097882\n",
       "2.0    0.098353\n",
       "3.0    0.104000\n",
       "4.0    0.100941\n",
       "5.0    0.100941\n",
       "6.0    0.101647\n",
       "7.0    0.096471\n",
       "8.0    0.103294\n",
       "9.0    0.099059\n",
       "Name: proportion, dtype: float64"
      ]
     },
     "metadata": {},
     "output_type": "display_data"
    },
    {
     "data": {
      "text/plain": [
       "y\n",
       "0.0    0.114667\n",
       "1.0    0.112000\n",
       "2.0    0.109333\n",
       "3.0    0.077333\n",
       "4.0    0.094667\n",
       "5.0    0.094667\n",
       "6.0    0.090667\n",
       "7.0    0.120000\n",
       "8.0    0.081333\n",
       "9.0    0.105333\n",
       "Name: proportion, dtype: float64"
      ]
     },
     "metadata": {},
     "output_type": "display_data"
    }
   ],
   "source": [
    "display(y_train.value_counts(normalize=True).sort_index())\n",
    "display(y_val.value_counts(normalize=True).sort_index())"
   ]
  },
  {
   "cell_type": "code",
   "execution_count": 105,
   "metadata": {},
   "outputs": [
    {
     "data": {
      "text/html": [
       "<div>\n",
       "<style scoped>\n",
       "    .dataframe tbody tr th:only-of-type {\n",
       "        vertical-align: middle;\n",
       "    }\n",
       "\n",
       "    .dataframe tbody tr th {\n",
       "        vertical-align: top;\n",
       "    }\n",
       "\n",
       "    .dataframe thead th {\n",
       "        text-align: right;\n",
       "    }\n",
       "</style>\n",
       "<table border=\"1\" class=\"dataframe\">\n",
       "  <thead>\n",
       "    <tr style=\"text-align: right;\">\n",
       "      <th></th>\n",
       "      <th>y</th>\n",
       "      <th>px_0</th>\n",
       "      <th>px_1</th>\n",
       "      <th>px_2</th>\n",
       "      <th>px_3</th>\n",
       "      <th>px_4</th>\n",
       "      <th>px_5</th>\n",
       "      <th>px_6</th>\n",
       "      <th>px_7</th>\n",
       "      <th>px_8</th>\n",
       "      <th>px_9</th>\n",
       "      <th>px_10</th>\n",
       "      <th>px_11</th>\n",
       "      <th>px_12</th>\n",
       "      <th>px_13</th>\n",
       "      <th>px_14</th>\n",
       "      <th>px_15</th>\n",
       "      <th>px_16</th>\n",
       "      <th>px_17</th>\n",
       "      <th>px_18</th>\n",
       "      <th>px_19</th>\n",
       "      <th>px_20</th>\n",
       "      <th>px_21</th>\n",
       "      <th>px_22</th>\n",
       "      <th>px_23</th>\n",
       "      <th>...</th>\n",
       "      <th>px_375</th>\n",
       "      <th>px_376</th>\n",
       "      <th>px_377</th>\n",
       "      <th>px_378</th>\n",
       "      <th>px_379</th>\n",
       "      <th>px_380</th>\n",
       "      <th>px_381</th>\n",
       "      <th>px_382</th>\n",
       "      <th>px_383</th>\n",
       "      <th>px_384</th>\n",
       "      <th>px_385</th>\n",
       "      <th>px_386</th>\n",
       "      <th>px_387</th>\n",
       "      <th>px_388</th>\n",
       "      <th>px_389</th>\n",
       "      <th>px_390</th>\n",
       "      <th>px_391</th>\n",
       "      <th>px_392</th>\n",
       "      <th>px_393</th>\n",
       "      <th>px_394</th>\n",
       "      <th>px_395</th>\n",
       "      <th>px_396</th>\n",
       "      <th>px_397</th>\n",
       "      <th>px_398</th>\n",
       "      <th>px_399</th>\n",
       "    </tr>\n",
       "  </thead>\n",
       "  <tbody>\n",
       "    <tr>\n",
       "      <th>0</th>\n",
       "      <td>0.0</td>\n",
       "      <td>0.0</td>\n",
       "      <td>0.0</td>\n",
       "      <td>0.0</td>\n",
       "      <td>0.0</td>\n",
       "      <td>0.0</td>\n",
       "      <td>0.0</td>\n",
       "      <td>0.0</td>\n",
       "      <td>0.0</td>\n",
       "      <td>0.0</td>\n",
       "      <td>0.0</td>\n",
       "      <td>0.0</td>\n",
       "      <td>0.0</td>\n",
       "      <td>0.0</td>\n",
       "      <td>0.0</td>\n",
       "      <td>0.0</td>\n",
       "      <td>0.0</td>\n",
       "      <td>0.0</td>\n",
       "      <td>0.0</td>\n",
       "      <td>0.0</td>\n",
       "      <td>0.0</td>\n",
       "      <td>0.0</td>\n",
       "      <td>0.0</td>\n",
       "      <td>0.0</td>\n",
       "      <td>0.0</td>\n",
       "      <td>...</td>\n",
       "      <td>0.0</td>\n",
       "      <td>0.0</td>\n",
       "      <td>0.0</td>\n",
       "      <td>0.0</td>\n",
       "      <td>0.0</td>\n",
       "      <td>0.0</td>\n",
       "      <td>0.0</td>\n",
       "      <td>0.0</td>\n",
       "      <td>0.0</td>\n",
       "      <td>0.0</td>\n",
       "      <td>0.0</td>\n",
       "      <td>0.0</td>\n",
       "      <td>0.0</td>\n",
       "      <td>0.0</td>\n",
       "      <td>0.0</td>\n",
       "      <td>0.0</td>\n",
       "      <td>0.0</td>\n",
       "      <td>0.0</td>\n",
       "      <td>0.0</td>\n",
       "      <td>0.0</td>\n",
       "      <td>0.0</td>\n",
       "      <td>0.0</td>\n",
       "      <td>0.0</td>\n",
       "      <td>0.0</td>\n",
       "      <td>0.0</td>\n",
       "    </tr>\n",
       "    <tr>\n",
       "      <th>1</th>\n",
       "      <td>0.0</td>\n",
       "      <td>0.0</td>\n",
       "      <td>0.0</td>\n",
       "      <td>0.0</td>\n",
       "      <td>0.0</td>\n",
       "      <td>0.0</td>\n",
       "      <td>0.0</td>\n",
       "      <td>0.0</td>\n",
       "      <td>0.0</td>\n",
       "      <td>0.0</td>\n",
       "      <td>0.0</td>\n",
       "      <td>0.0</td>\n",
       "      <td>0.0</td>\n",
       "      <td>0.0</td>\n",
       "      <td>0.0</td>\n",
       "      <td>0.0</td>\n",
       "      <td>0.0</td>\n",
       "      <td>0.0</td>\n",
       "      <td>0.0</td>\n",
       "      <td>0.0</td>\n",
       "      <td>0.0</td>\n",
       "      <td>0.0</td>\n",
       "      <td>0.0</td>\n",
       "      <td>0.0</td>\n",
       "      <td>0.0</td>\n",
       "      <td>...</td>\n",
       "      <td>0.0</td>\n",
       "      <td>0.0</td>\n",
       "      <td>0.0</td>\n",
       "      <td>0.0</td>\n",
       "      <td>0.0</td>\n",
       "      <td>0.0</td>\n",
       "      <td>0.0</td>\n",
       "      <td>0.0</td>\n",
       "      <td>0.0</td>\n",
       "      <td>0.0</td>\n",
       "      <td>0.0</td>\n",
       "      <td>0.0</td>\n",
       "      <td>0.0</td>\n",
       "      <td>0.0</td>\n",
       "      <td>0.0</td>\n",
       "      <td>0.0</td>\n",
       "      <td>0.0</td>\n",
       "      <td>0.0</td>\n",
       "      <td>0.0</td>\n",
       "      <td>0.0</td>\n",
       "      <td>0.0</td>\n",
       "      <td>0.0</td>\n",
       "      <td>0.0</td>\n",
       "      <td>0.0</td>\n",
       "      <td>0.0</td>\n",
       "    </tr>\n",
       "  </tbody>\n",
       "</table>\n",
       "<p>2 rows × 401 columns</p>\n",
       "</div>"
      ],
      "text/plain": [
       "     y  px_0  px_1  px_2  px_3  px_4  px_5  px_6  px_7  px_8  px_9  px_10  \\\n",
       "0  0.0   0.0   0.0   0.0   0.0   0.0   0.0   0.0   0.0   0.0   0.0    0.0   \n",
       "1  0.0   0.0   0.0   0.0   0.0   0.0   0.0   0.0   0.0   0.0   0.0    0.0   \n",
       "\n",
       "   px_11  px_12  px_13  px_14  px_15  px_16  px_17  px_18  px_19  px_20  \\\n",
       "0    0.0    0.0    0.0    0.0    0.0    0.0    0.0    0.0    0.0    0.0   \n",
       "1    0.0    0.0    0.0    0.0    0.0    0.0    0.0    0.0    0.0    0.0   \n",
       "\n",
       "   px_21  px_22  px_23  ...  px_375  px_376  px_377  px_378  px_379  px_380  \\\n",
       "0    0.0    0.0    0.0  ...     0.0     0.0     0.0     0.0     0.0     0.0   \n",
       "1    0.0    0.0    0.0  ...     0.0     0.0     0.0     0.0     0.0     0.0   \n",
       "\n",
       "   px_381  px_382  px_383  px_384  px_385  px_386  px_387  px_388  px_389  \\\n",
       "0     0.0     0.0     0.0     0.0     0.0     0.0     0.0     0.0     0.0   \n",
       "1     0.0     0.0     0.0     0.0     0.0     0.0     0.0     0.0     0.0   \n",
       "\n",
       "   px_390  px_391  px_392  px_393  px_394  px_395  px_396  px_397  px_398  \\\n",
       "0     0.0     0.0     0.0     0.0     0.0     0.0     0.0     0.0     0.0   \n",
       "1     0.0     0.0     0.0     0.0     0.0     0.0     0.0     0.0     0.0   \n",
       "\n",
       "   px_399  \n",
       "0     0.0  \n",
       "1     0.0  \n",
       "\n",
       "[2 rows x 401 columns]"
      ]
     },
     "execution_count": 105,
     "metadata": {},
     "output_type": "execute_result"
    }
   ],
   "source": [
    "mnist_df.head(2)"
   ]
  },
  {
   "cell_type": "markdown",
   "metadata": {},
   "source": [
    "## Note\n",
    "\n",
    "For the target variable, y, the class label is labelled as \"10\" for 0 (corresponding to the first 500 rows).\n"
   ]
  },
  {
   "cell_type": "code",
   "execution_count": 65,
   "metadata": {},
   "outputs": [
    {
     "data": {
      "text/plain": [
       "array([[1],\n",
       "       [1]], dtype=uint8)"
      ]
     },
     "metadata": {},
     "output_type": "display_data"
    },
    {
     "data": {
      "text/plain": [
       "array([[2],\n",
       "       [2]], dtype=uint8)"
      ]
     },
     "metadata": {},
     "output_type": "display_data"
    }
   ],
   "source": [
    "display(y[501:503])\n",
    "display(y[1001:1003])"
   ]
  },
  {
   "cell_type": "code",
   "execution_count": 66,
   "metadata": {},
   "outputs": [
    {
     "data": {
      "image/png": "[encoded data removed]",
      "text/plain": [
       "<Figure size 640x480 with 1 Axes>"
      ]
     },
     "metadata": {},
     "output_type": "display_data"
    }
   ],
   "source": [
    "plt.hist(X[0], bins=30, edgecolor=\"black\")\n",
    "plt.xlabel(\"Value\")\n",
    "plt.ylabel(\"Frequency\")\n",
    "plt.title(\"Histogram of Data\")\n",
    "plt.show()"
   ]
  },
  {
   "cell_type": "code",
   "execution_count": 106,
   "metadata": {},
   "outputs": [],
   "source": [
    "def plot_first_x_images(arr: ndarray) -> None:\n",
    "    digits = arr.reshape(-1, 20, 20)\n",
    "\n",
    "    fig, axes = plt.subplots(4, 4, figsize=(3, 3))\n",
    "    axes = axes.flatten()\n",
    "    for i, ax in enumerate(axes):\n",
    "        # transpose, because if not transposed, the image will be shown\n",
    "        # reflected along the diagonal\n",
    "        ax.imshow(digits[i].T, cmap=\"Greys\", interpolation=None)\n",
    "        ax.axis(\"off\")\n",
    "\n",
    "    plt.tight_layout()\n",
    "    plt.show()"
   ]
  },
  {
   "cell_type": "markdown",
   "metadata": {},
   "source": [
    "# EDA\n",
    "\n",
    "checking that the X's corresponding to their actual y's\n"
   ]
  },
  {
   "cell_type": "code",
   "execution_count": 107,
   "metadata": {},
   "outputs": [
    {
     "data": {
      "image/png": "[encoded data removed]",
      "text/plain": [
       "<Figure size 300x300 with 16 Axes>"
      ]
     },
     "metadata": {},
     "output_type": "display_data"
    },
    {
     "data": {
      "text/plain": [
       "array([10, 10, 10, 10, 10, 10, 10, 10, 10, 10, 10, 10, 10, 10, 10, 10],\n",
       "      dtype=uint8)"
      ]
     },
     "metadata": {},
     "output_type": "display_data"
    }
   ],
   "source": [
    "samples = X[:16]\n",
    "plot_first_x_images(samples)\n",
    "display(y[:16].flatten())"
   ]
  },
  {
   "cell_type": "code",
   "execution_count": 113,
   "metadata": {},
   "outputs": [
    {
     "data": {
      "image/png": "[encoded data removed]",
      "text/plain": [
       "<Figure size 300x300 with 16 Axes>"
      ]
     },
     "metadata": {},
     "output_type": "display_data"
    }
   ],
   "source": [
    "tests = mnist_df.drop(columns=[\"y\"])\n",
    "plot_first_x_images(tests.iloc[100:116].to_numpy())"
   ]
  },
  {
   "cell_type": "code",
   "execution_count": 69,
   "metadata": {},
   "outputs": [
    {
     "data": {
      "image/png": "[encoded data removed]",
      "text/plain": [
       "<Figure size 640x480 with 1 Axes>"
      ]
     },
     "metadata": {},
     "output_type": "display_data"
    }
   ],
   "source": [
    "plt.imshow(X[0].reshape((20, 20)), cmap=\"Greys\", interpolation=None)\n",
    "plt.show()"
   ]
  },
  {
   "cell_type": "code",
   "execution_count": 108,
   "metadata": {},
   "outputs": [
    {
     "data": {
      "image/png": "[encoded data removed]",
      "text/plain": [
       "<Figure size 300x300 with 16 Axes>"
      ]
     },
     "metadata": {},
     "output_type": "display_data"
    },
    {
     "data": {
      "text/plain": [
       "array([1, 1, 1, 1, 1, 1, 1, 1, 1, 1, 1, 1, 1, 1, 1, 1], dtype=uint8)"
      ]
     },
     "metadata": {},
     "output_type": "display_data"
    }
   ],
   "source": [
    "samples = X[500:516]\n",
    "plot_first_x_images(samples)\n",
    "display(y[500:516].flatten())"
   ]
  },
  {
   "cell_type": "code",
   "execution_count": 109,
   "metadata": {},
   "outputs": [
    {
     "data": {
      "image/png": "[encoded data removed]",
      "text/plain": [
       "<Figure size 300x300 with 16 Axes>"
      ]
     },
     "metadata": {},
     "output_type": "display_data"
    },
    {
     "data": {
      "text/plain": [
       "array([2, 2, 2, 2, 2, 2, 2, 2, 2, 2, 2, 2, 2, 2, 2, 2], dtype=uint8)"
      ]
     },
     "metadata": {},
     "output_type": "display_data"
    }
   ],
   "source": [
    "samples = X[1000:1016]\n",
    "plot_first_x_images(samples)\n",
    "display(y[1000:1016].flatten())"
   ]
  },
  {
   "cell_type": "code",
   "execution_count": 110,
   "metadata": {},
   "outputs": [
    {
     "data": {
      "image/png": "[encoded data removed]",
      "text/plain": [
       "<Figure size 300x300 with 16 Axes>"
      ]
     },
     "metadata": {},
     "output_type": "display_data"
    },
    {
     "data": {
      "text/plain": [
       "array([9, 9, 9, 9, 9, 9, 9, 9, 9, 9, 9, 9, 9, 9, 9, 9], dtype=uint8)"
      ]
     },
     "metadata": {},
     "output_type": "display_data"
    }
   ],
   "source": [
    "digit = 9\n",
    "idx_lower = digit * 500\n",
    "idx_upper = idx_lower + 16\n",
    "samples = X[idx_lower:idx_upper]\n",
    "plot_first_x_images(samples)\n",
    "display(y[idx_lower:idx_upper].flatten())"
   ]
  },
  {
   "cell_type": "markdown",
   "metadata": {},
   "source": [
    "# Activation Function\n"
   ]
  },
  {
   "cell_type": "code",
   "execution_count": 74,
   "metadata": {},
   "outputs": [],
   "source": [
    "# def sigmoid(z: ndarray | float, calculate_derivative=False) -> ndarray:\n",
    "def sigmoid(z: ndarray | float) -> ndarray:\n",
    "    \"\"\"\n",
    "    Args:                # a: ndarray = sigmoid(np.dot(np.append(1, X), weight))\n",
    "        v (np.ndarray | float): Net Internal Activity of the neuron\n",
    "        calculate_derivative (bool, optional):\n",
    "    \"\"\"\n",
    "    # if calculate_derivative:\n",
    "    #     # return np.exp(z) / (np.exp(z) + 1) ** 2\n",
    "    #     return sigmoid(z) * (1 - sigmoid(z))\n",
    "\n",
    "    return 1 / (1 + np.exp(-z))"
   ]
  },
  {
   "cell_type": "code",
   "execution_count": 75,
   "metadata": {},
   "outputs": [],
   "source": [
    "def sigmoid_prime(z: ndarray | float) -> ndarray | float:\n",
    "    \"\"\"This assumes that z is already the activation, i.e. already went through normal sigmoid\n",
    "\n",
    "    Args:\n",
    "        z (ndarray | float): activation\n",
    "    \"\"\"\n",
    "    return z * (1 - z)"
   ]
  },
  {
   "cell_type": "markdown",
   "metadata": {},
   "source": [
    "## Tests for the activaton function\n"
   ]
  },
  {
   "cell_type": "code",
   "execution_count": 76,
   "metadata": {},
   "outputs": [
    {
     "name": "stdout",
     "output_type": "stream",
     "text": [
      "tests for logistic function\n",
      "0.4900013331200346\n",
      "-0.041600000000000005\n",
      "------------\n"
     ]
    }
   ],
   "source": [
    "# should be 0.49000133312003097\n",
    "print(\"tests for logistic function\")\n",
    "res10 = sigmoid(z=-0.04)\n",
    "print(res10)\n",
    "# 0.2499000266606\n",
    "res10_prime = sigmoid_prime(z=-0.04)\n",
    "print(res10_prime)\n",
    "print(\"------------\")"
   ]
  },
  {
   "cell_type": "markdown",
   "metadata": {},
   "source": [
    "# Gradient Descent and Backpropagation Formulas\n",
    "\n",
    "Backpropagation algorithm: the weight adjustment is proportional to the instantaneous gradient:\n",
    "$$ \\Delta {w}_{ji}(n) = -\\eta \\frac{\\partial \\mathcal{L}(n)}{\\partial w_{ji}(n)} $$\n",
    "\n",
    "---\n",
    "\n",
    "## Local Gradients / local errors / small delta $δ$\n",
    "\n",
    "### Gradient (for output neurons):\n",
    "\n",
    "$$\\frac{\\partial \\mathcal{L}(n)}{\\partial w_{j i}(n)}=\\frac{\\partial \\mathcal{L}(n)}{\\partial e_j(n)} \\frac{\\partial e_j(n)}{\\partial y_j(n)} \\frac{\\partial y_j(n)}{\\partial v_j(n)} \\frac{\\partial v_j(n)}{\\partial w_{j i}(n)}$$\n",
    "\n",
    "Computing for the partial derivatives, we get:  \n",
    "$$\\frac{\\partial \\mathcal{L}(n)}{\\partial w_{j i}(n)}=-e_j(n) \\varphi^{\\prime}\\left(v_j(n)\\right) y_i(n)$$\n",
    "\n",
    "However, a portion of the formula can be reused for the calculations of the gradients of the layers before the current layer, we call this term $\\delta$, it also happens that $\\delta$ kind of acts like a local error:  \n",
    "$$\\delta_j(n)=e_j(n) \\varphi^{\\prime}\\left(v_j(n)\\right)$$\n",
    "\n",
    "For example, for the logistic function, this is what we get for $\\delta$:  \n",
    "$$\\delta_j(n)= [d_j(n) - o_j(n)] \\cdot a \\cdot o_j(n) \\cdot [ 1- o_j(n) ]$$\n",
    "where $$ \\varphi^{\\prime}\\left(v_j(n)\\right) = a \\cdot o_j(n) \\cdot [ 1- o_j(n) ]$$\n",
    "\n",
    "We also get the formula for the weight adjustment:\n",
    "\n",
    "$$\\Delta {w}_{ji}(n) = \\eta {\\delta_j}^{(l)}(n) {y_i}^{(l-1)}(n)$$\n",
    "\n",
    "---\n",
    "\n",
    "### Gradient (for hidden neurons):\n",
    "\n",
    "$$\\delta_j(n)= \\varphi^{\\prime} (v_j) \\sum_k {\\delta_k}^{(l+1)} {w_{kj}}^{(l+1)} $$\n"
   ]
  },
  {
   "cell_type": "markdown",
   "metadata": {},
   "source": [
    "# Other functions\n"
   ]
  },
  {
   "cell_type": "code",
   "execution_count": 233,
   "metadata": {},
   "outputs": [],
   "source": [
    "# def calculate_metrics(\n",
    "#     y_out: ndarray, layer_sizes: list, X: ndarray, y: ndarray\n",
    "# ) -> tuple:\n",
    "#     assert len(X) == len(y), \"length of X-data, not equal to y-data\"\n",
    "#     num_data = len(X)\n",
    "\n",
    "#     MSE = 0\n",
    "#     predictions = []  # TODO: not yet tested\n",
    "#     output_size = layer_sizes[-1]\n",
    "#     epoch_conf_matrix = np.zeros((output_size, output_size), dtype=int)\n",
    "\n",
    "#     for X_input, y_class_label in zip(X, y):\n",
    "#         # y_out = self.forward(X=X)\n",
    "#         num_output_neurons = len(y_out)\n",
    "#         predicted_class_label = np.argmax(y_out)\n",
    "#         one_hot = np.zeros(num_output_neurons)\n",
    "#         one_hot[int(y_class_label.item())] = 1\n",
    "#         actual_class_label = np.argmax(one_hot)\n",
    "\n",
    "#         squared_errors = np.square(one_hot - y_out)\n",
    "#         sum_squared_errors = np.sum(squared_errors)\n",
    "#         predictions.append(predicted_class_label == actual_class_label)\n",
    "\n",
    "#         epoch_conf_matrix[predicted_class_label, actual_class_label] += 1\n",
    "\n",
    "#         MSE += sum_squared_errors\n",
    "\n",
    "#     SSE = MSE\n",
    "#     MSE = MSE / num_data\n",
    "#     accuracy = float(np.mean(predictions))\n",
    "\n",
    "#     return MSE, SSE, accuracy"
   ]
  },
  {
   "cell_type": "markdown",
   "metadata": {},
   "source": [
    "# Main Code: Artificial Neural Network\n",
    "\n",
    "Multilayer Perceptron\n"
   ]
  },
  {
   "cell_type": "code",
   "execution_count": 231,
   "metadata": {},
   "outputs": [],
   "source": [
    "class MLP:\n",
    "    \"\"\"Multilayer Perceptron\"\"\"\n",
    "\n",
    "    def __init__(\n",
    "        self,\n",
    "        layer_sizes: Optional[list[int]] = None,\n",
    "        random_seed: float = 1,\n",
    "    ) -> None:\n",
    "        np.random.seed(random_seed)\n",
    "\n",
    "        self.layer_sizes = [400, 25, 10] if not layer_sizes else layer_sizes\n",
    "\n",
    "        self.weights = [\n",
    "            # + 1 to account for the bias\n",
    "            np.random.randn(right_layer, left_layer + 1)\n",
    "            for (right_layer, left_layer) in zip(\n",
    "                self.layer_sizes[1:], self.layer_sizes[:-1]\n",
    "            )\n",
    "        ]\n",
    "\n",
    "    def display_network_info(self) -> None:\n",
    "        for idx, weight in enumerate(self.weights):\n",
    "            print(f\"--- {idx+1}th layer: \")\n",
    "            print(\n",
    "                f\"\"\"shape: {weight.shape}, {weight.shape[0]} neurons\n",
    "                    with {weight.shape[1] - 1} weights and 1 bias each\"\"\"\n",
    "            )\n",
    "\n",
    "        print(\"(Note: the first weight accounts for the bias)\")\n",
    "\n",
    "    def predict(self, X: ndarray):\n",
    "        \"\"\"Assumes that the input for X, and y is a single row of data\n",
    "\n",
    "        Args:\n",
    "            X (ndarray): single row of training data / single example\n",
    "\n",
    "        Returns:\n",
    "            _type_: prediction for its class label\n",
    "        \"\"\"\n",
    "        y_out = self.forward(X=X)[-1]\n",
    "\n",
    "        return np.argmax(y_out)\n",
    "\n",
    "    def forward_all_training_examples(self, X: ndarray) -> ndarray:\n",
    "        \"\"\"In contrast to `forward`, this method performs a forward pass\n",
    "        for all the training data, not just a single training example.\n",
    "\n",
    "        Args:\n",
    "            X (ndarray): All training data, e.g. of shape (4250, 400)\n",
    "\n",
    "        Returns:\n",
    "            ndarray: np array of the predictions for all the training examples in X\n",
    "        \"\"\"\n",
    "\n",
    "        y_hats = []\n",
    "        for x in X:\n",
    "            y_hat = self.predict(X=x)\n",
    "            y_hats.append(y_hat)\n",
    "\n",
    "        y_hats = np.array(y_hats)\n",
    "        return y_hats\n",
    "\n",
    "    def forward(self, X: ndarray) -> list[ndarray]:\n",
    "        \"\"\"Perform a forward pass from the input layer to the output layer\n",
    "\n",
    "        Args:\n",
    "            X (ndarray): Data for the input neurons (assumed to be one training example)\n",
    "                         e.g. of shape (400, )\n",
    "            debug (bool, optional)\n",
    "\n",
    "        Returns:\n",
    "            list[ndarray]: activations for all the layers (input to output)\n",
    "        \"\"\"\n",
    "        # a -> activation\n",
    "        a = X.copy()\n",
    "        activations = []\n",
    "\n",
    "        for idx, layer_weight in enumerate(self.weights):\n",
    "            if idx == 0:\n",
    "                # append 1 to account for the bias\n",
    "                # this also makes it so that they both have the same shapes\n",
    "                # a = sigmoid(np.dot(np.append(1, X), layer_weight))\n",
    "                a = sigmoid(np.dot(layer_weight, np.append(1, X)))\n",
    "            else:\n",
    "                # a = sigmoid(np.dot(np.append(1, a), layer_weight))\n",
    "                a = sigmoid(np.dot(layer_weight, np.append(1, a)))\n",
    "            activations.append(a)\n",
    "        return activations\n",
    "\n",
    "    def backward(self, y_train: ndarray, activations: list[ndarray], X: ndarray):\n",
    "        \"\"\"Perform one backpropagation pass\n",
    "\n",
    "        Args:\n",
    "            y_train (ndarray): class labels for the training data\n",
    "            activations (list[ndarray]): activations for all of the layers\n",
    "                                   excluding the input layer (hidden to output)\n",
    "            X (ndarray): Input pixels\n",
    "        \"\"\"\n",
    "        output_activations = activations[-1]\n",
    "        weights = self.weights.copy()\n",
    "        weights.reverse()\n",
    "\n",
    "        num_output_neurons = len(output_activations)\n",
    "        one_hot = np.zeros(num_output_neurons)  # desired outputs\n",
    "        one_hot[int(y_train.item())] = 1\n",
    "\n",
    "        # # TODO: remove\n",
    "        # fake_one_hot_from_201 = np.array([0.83, 0.74])\n",
    "\n",
    "        # e = d - y\n",
    "        # output_error = fake_one_hot_from_201 - output_activations\n",
    "        output_error = one_hot - output_activations\n",
    "\n",
    "        # reverse the activations so that we start with the output layer\n",
    "        activations.reverse()\n",
    "\n",
    "        small_deltas = []  # δ\n",
    "        Deltas: list[ndarray] = []\n",
    "        for idx, activation in enumerate(activations):\n",
    "            # calculate the local gradients\n",
    "            if idx == 0:\n",
    "                # for the output layer, δ = e * φ'\n",
    "                small_delta = output_error * sigmoid_prime(z=activation)\n",
    "                small_deltas.append(small_delta)\n",
    "\n",
    "            else:\n",
    "                # for hidden layers, δ = φ' * Σ [δ^(l+1) *w^(l+1) ]\n",
    "                # [:,1:] removes the biasing term, w_0 from the dot product\n",
    "                # note that the summation can be computed as a dot produt\n",
    "                small_delta = np.dot(\n",
    "                    # idx - 1 refers to the deltas and weights @ the next layer\n",
    "                    # or if going from output to input, the \"previous\" layer\n",
    "                    small_deltas[idx - 1],\n",
    "                    weights[idx - 1][:, 1:],\n",
    "                ) * sigmoid_prime(z=activation)\n",
    "                small_deltas.append(small_delta)\n",
    "\n",
    "            # Calculate weights adjustments, large Delta\n",
    "            # Δ (weight adjustments) = eta * (δ * y), where delta is a scalar and, y is a vector,\n",
    "            # therefore we perform an outer product to get all of the weight adjustments\n",
    "            # In reference to their layers: Δ (weight adjustments) = eta * (δ(l) * y(l-1))\n",
    "            if idx == (len(activations) - 1):\n",
    "                # Input layer, 1 accounts for the bias\n",
    "                # Delta = 0.85 * np.outer(small_delta, np.append(1, X))\n",
    "                Delta = self.eta * np.outer(small_delta, np.append(1, X))\n",
    "                Deltas.append(Delta)\n",
    "            else:\n",
    "                # hidden to output layers\n",
    "                # Delta = 0.85 * np.outer(small_delta, np.append(1, activations[idx + 1]))\n",
    "                Delta = self.eta * np.outer(\n",
    "                    small_delta, np.append(1, activations[idx + 1])\n",
    "                )\n",
    "                Deltas.append(Delta)\n",
    "\n",
    "        # reverse the deltas since we calculated them backwards\n",
    "        Deltas.reverse()\n",
    "\n",
    "        # check that the weights and delta weights do match\n",
    "        assert len(self.weights) == len(Deltas)\n",
    "        assert all(\n",
    "            [\n",
    "                np.array(weight).shape == np.array(Delta).shape\n",
    "                for weight, Delta in zip(self.weights, Deltas)\n",
    "            ]\n",
    "        )\n",
    "\n",
    "        return Deltas\n",
    "\n",
    "    def SGD_fit(\n",
    "        self,\n",
    "        eta: float,\n",
    "        epochs: int,\n",
    "        X_train: ndarray,\n",
    "        y_train: ndarray,\n",
    "        X_validation: ndarray,\n",
    "        y_validation: ndarray,\n",
    "        mini_batch_size=8,\n",
    "        debug=False,\n",
    "    ):\n",
    "        self.eta = eta\n",
    "        train_x = X_train.copy()\n",
    "        train_y = y_train.copy()\n",
    "        validation_x = X_validation.copy()\n",
    "        validation_y = y_validation.copy()\n",
    "\n",
    "        training_data = list(zip(train_y, train_x))\n",
    "        for nth_epoch in range(epochs + 1):\n",
    "            np.random.shuffle(training_data)\n",
    "            mini_batches = [\n",
    "                training_data[i : i + mini_batch_size]\n",
    "                for i in range(0, len(training_data), mini_batch_size)\n",
    "            ]\n",
    "\n",
    "            for mini_batch in mini_batches:\n",
    "                # process mini batch\n",
    "                self.process_mini_batch(mini_batch=mini_batch)\n",
    "\n",
    "                if debug:\n",
    "                    break\n",
    "\n",
    "            # calculate metrics per epoch\n",
    "            # 1. perform a forward pass\n",
    "\n",
    "            # print(\"train x shape\")\n",
    "            # print(train_x.shape)\n",
    "            x = self.forward_all_training_examples(X=train_x)\n",
    "            print(x.shape)\n",
    "            print(y_train.shape)\n",
    "\n",
    "            # 2. pass the Y_out of the forward pass to the calc metrics function\n",
    "\n",
    "            # 3. calc train metrics\n",
    "            # 4. calc validation metrics\n",
    "\n",
    "            # display metrics per epoch\n",
    "            print(f\"-------- Epoch: {nth_epoch} / {epochs}\")\n",
    "\n",
    "    def process_mini_batch(self, mini_batch) -> None:\n",
    "        mini_batch_deltas: list[list[ndarray]] = []\n",
    "\n",
    "        for y_train, X_train in mini_batch:\n",
    "            y_out = self.forward(X=X_train)\n",
    "\n",
    "            # backward pass, result should be the weight updates\n",
    "            # i.e. the Delta weights for the specific training example\n",
    "            # where we get an np array of all the weight changes across all layers\n",
    "            Delta_weights = self.backward(y_train=y_train, activations=y_out, X=X_train)\n",
    "            mini_batch_deltas.append(Delta_weights)\n",
    "\n",
    "        # mini batch deltas = list\n",
    "        # 8 (weight changes), i.e. 8 weight items, each item is a list\n",
    "        # each list contains the delta weights per layer\n",
    "        # if you have 1 hidden layer, then that would be 2 delta weights\n",
    "        # 1 for the hidden layer, 1 for the output layer\n",
    "        transposed_mini_deltas = list(zip(*mini_batch_deltas))\n",
    "        # the final transposed mini deltas is of the shape of something like\n",
    "        # (8, 25, 401) or (8, 10, 26) -> (mini_batch_size, num_neurons, num_weights)\n",
    "        transposed_mini_deltas = [np.array(dw) for dw in transposed_mini_deltas]\n",
    "\n",
    "        # calc the mean of the weight updates across all training\n",
    "        # examples in the mini batch\n",
    "        Delta_weights_means = [\n",
    "            np.mean(layer_deltas_in_mini_batch, axis=0)\n",
    "            for layer_deltas_in_mini_batch in transposed_mini_deltas\n",
    "        ]\n",
    "\n",
    "        assert all(\n",
    "            [\n",
    "                weight.shape == Delta.shape\n",
    "                for weight, Delta in zip(self.weights, Delta_weights_means)\n",
    "            ]\n",
    "        )\n",
    "\n",
    "        self.update_weights(Deltas=Delta_weights_means)\n",
    "\n",
    "    def update_weights(self, Deltas: list[ndarray]):\n",
    "        \"\"\"\n",
    "        Args:\n",
    "            Deltas (list[ndarray]): the change in weights calculated from backprop\n",
    "        \"\"\"\n",
    "        self.weights = [weight + Delta for weight, Delta in zip(self.weights, Deltas)]\n",
    "\n",
    "    def save_weights(self, filename: str) -> None:\n",
    "        pass\n",
    "\n",
    "    def load_weights(self, weights: list[ndarray]) -> None:\n",
    "        assert len(self.weights) == len(weights)\n",
    "        self.weights = weights"
   ]
  },
  {
   "cell_type": "code",
   "execution_count": 212,
   "metadata": {},
   "outputs": [
    {
     "data": {
      "text/plain": [
       "(4250, 400)"
      ]
     },
     "metadata": {},
     "output_type": "display_data"
    },
    {
     "data": {
      "text/plain": [
       "(4250,)"
      ]
     },
     "metadata": {},
     "output_type": "display_data"
    }
   ],
   "source": [
    "display(X_train.shape)\n",
    "display(y_train.shape)"
   ]
  },
  {
   "cell_type": "markdown",
   "metadata": {},
   "source": [
    "# MLP Instance\n"
   ]
  },
  {
   "cell_type": "code",
   "execution_count": 232,
   "metadata": {},
   "outputs": [
    {
     "name": "stdout",
     "output_type": "stream",
     "text": [
      "(4250,)\n",
      "(4250,)\n",
      "-------- Epoch: 0 / 2\n",
      "(4250,)\n",
      "(4250,)\n",
      "-------- Epoch: 1 / 2\n",
      "(4250,)\n",
      "(4250,)\n",
      "-------- Epoch: 2 / 2\n"
     ]
    }
   ],
   "source": [
    "network = MLP(layer_sizes=[400, 25, 10])\n",
    "# network = MLP(layer_sizes=[400, 25, 25, 10])\n",
    "network.SGD_fit(\n",
    "    eta=0.01,\n",
    "    epochs=2,\n",
    "    X_train=X_train.to_numpy(),\n",
    "    y_train=y_train.to_numpy(),\n",
    "    X_validation=X_val.to_numpy(),\n",
    "    y_validation=y_val.to_numpy(),\n",
    "    mini_batch_size=8,\n",
    "    # debug=True,\n",
    ")\n",
    "# test = MLP(layer_sizes=[400, 25, 25, 10])\n",
    "# test.layer_sizes"
   ]
  },
  {
   "cell_type": "code",
   "execution_count": 79,
   "metadata": {},
   "outputs": [
    {
     "name": "stdout",
     "output_type": "stream",
     "text": [
      "--- 1th layer: \n",
      "shape: (25, 401), 25 neurons\n",
      "                    with 400 weights and 1 bias each\n",
      "--- 2th layer: \n",
      "shape: (10, 26), 10 neurons\n",
      "                    with 25 weights and 1 bias each\n",
      "(Note: the first weight accounts for the bias)\n"
     ]
    }
   ],
   "source": [
    "network.display_network_info()"
   ]
  },
  {
   "cell_type": "code",
   "execution_count": 80,
   "metadata": {},
   "outputs": [
    {
     "data": {
      "text/plain": [
       "array([[ 1.62434536, -0.61175641, -0.52817175, ..., -0.03536792,\n",
       "         2.11060505, -1.30653407],\n",
       "       [ 0.07638048,  0.36723181,  1.23289919, ..., -0.32420422,\n",
       "         0.81434313,  0.78046993],\n",
       "       [-1.46405357, -0.15449119, -0.09243232, ..., -0.53903258,\n",
       "         0.64409999,  0.18363357],\n",
       "       ...,\n",
       "       [-0.76813151,  0.79686957, -0.23686861, ..., -1.47720697,\n",
       "        -1.06829106, -0.56843461],\n",
       "       [ 0.24497576,  0.71976094, -0.98197244, ..., -0.64810988,\n",
       "        -1.25152625,  0.57021043],\n",
       "       [ 0.24582697,  0.76680739,  0.40632739, ...,  0.47031271,\n",
       "         0.89412553,  1.51991551]])"
      ]
     },
     "execution_count": 80,
     "metadata": {},
     "output_type": "execute_result"
    }
   ],
   "source": [
    "network.weights[0]"
   ]
  },
  {
   "cell_type": "markdown",
   "metadata": {},
   "source": [
    "# MLP Forward pass test\n"
   ]
  },
  {
   "cell_type": "code",
   "execution_count": 81,
   "metadata": {},
   "outputs": [
    {
     "data": {
      "text/plain": [
       "(4, 4)"
      ]
     },
     "metadata": {},
     "output_type": "display_data"
    },
    {
     "data": {
      "text/plain": [
       "(3, 5)"
      ]
     },
     "metadata": {},
     "output_type": "display_data"
    },
    {
     "data": {
      "text/plain": [
       "(2, 4)"
      ]
     },
     "metadata": {},
     "output_type": "display_data"
    }
   ],
   "source": [
    "l1_weights = np.array(\n",
    "    [\n",
    "        [-0.7, 0.1, 0.4, -0.6],\n",
    "        [-0.8, 0.3, 0.7, -0.4],\n",
    "        [-0.9, -0.9, 0.3, -0.6],\n",
    "        [-0.4, -0.8, 0.7, 0.2],\n",
    "    ]\n",
    ")\n",
    "\n",
    "l2_weights = np.array(\n",
    "    [\n",
    "        [-0.7, -0.3, 0.8, -0.9, 0.4],\n",
    "        [-0.6, -0.4, -0.2, 0.7, -0.3],\n",
    "        [0.4, 0.4, -0.7, 0.8, -0.3],\n",
    "    ]\n",
    ")\n",
    "\n",
    "out_weights = np.array([[-0.6, 0.8, -0.3, 0.7], [-0.4, -0.6, 0.7, 0.3]])\n",
    "\n",
    "display(l1_weights.shape)\n",
    "display(l2_weights.shape)\n",
    "display(out_weights.shape)"
   ]
  },
  {
   "cell_type": "code",
   "execution_count": 82,
   "metadata": {},
   "outputs": [
    {
     "name": "stdout",
     "output_type": "stream",
     "text": [
      "--- 1th layer: \n",
      "shape: (4, 4), 4 neurons\n",
      "                    with 3 weights and 1 bias each\n",
      "--- 2th layer: \n",
      "shape: (3, 5), 3 neurons\n",
      "                    with 4 weights and 1 bias each\n",
      "--- 3th layer: \n",
      "shape: (2, 4), 2 neurons\n",
      "                    with 3 weights and 1 bias each\n",
      "(Note: the first weight accounts for the bias)\n"
     ]
    }
   ],
   "source": [
    "testing = MLP(layer_sizes=[3, 4, 3, 2])\n",
    "testing.load_weights(weights=[l1_weights, l2_weights, out_weights])\n",
    "testing.display_network_info()"
   ]
  },
  {
   "cell_type": "markdown",
   "metadata": {},
   "source": [
    "## backward test\n"
   ]
  },
  {
   "cell_type": "code",
   "execution_count": 83,
   "metadata": {},
   "outputs": [],
   "source": [
    "all_activations = testing.forward(X=[0.4, 0.5, -0.7])\n",
    "Deltas_weightsss = testing.backward(\n",
    "    y_train=np.ndarray([]), activations=all_activations, X=[0.4, 0.5, -0.7]\n",
    ")\n",
    "# should equal 0.5019898612 and 0.4476699584\n",
    "# all_activations"
   ]
  },
  {
   "cell_type": "code",
   "execution_count": 84,
   "metadata": {},
   "outputs": [
    {
     "data": {
      "text/plain": [
       "[array([[-0.69918942,  0.10032423,  0.40040529, -0.60056741],\n",
       "        [-0.80219579,  0.29912168,  0.69890211, -0.39846295],\n",
       "        [-0.89725103, -0.89890041,  0.30137449, -0.60192428],\n",
       "        [-0.40106511, -0.80042604,  0.69946744,  0.20074558]]),\n",
       " array([[-0.69568621, -0.29788624,  0.80210298, -0.89855905,  0.4016185 ],\n",
       "        [-0.5952238 , -0.39765966, -0.19767159,  0.70159541, -0.298208  ],\n",
       "        [ 0.41612063,  0.40789913, -0.69214115,  0.80538482, -0.29395165]]),\n",
       " array([[-0.53029895,  0.82457785, -0.27797477,  0.74188671],\n",
       "        [-0.33856031, -0.57833525,  0.71941467,  0.33692206]])]"
      ]
     },
     "execution_count": 84,
     "metadata": {},
     "output_type": "execute_result"
    }
   ],
   "source": [
    "# Deltas_weightsss\n",
    "testing.update_weights(Deltas=Deltas_weightsss)\n",
    "testing.weights"
   ]
  },
  {
   "cell_type": "code",
   "execution_count": null,
   "metadata": {},
   "outputs": [],
   "source": []
  },
  {
   "cell_type": "code",
   "execution_count": null,
   "metadata": {},
   "outputs": [],
   "source": []
  },
  {
   "cell_type": "code",
   "execution_count": null,
   "metadata": {},
   "outputs": [],
   "source": []
  },
  {
   "cell_type": "code",
   "execution_count": null,
   "metadata": {},
   "outputs": [],
   "source": []
  },
  {
   "cell_type": "code",
   "execution_count": 85,
   "metadata": {},
   "outputs": [
    {
     "data": {
      "text/plain": [
       "array([[0.06970105, 0.02457785, 0.02202523, 0.04188672],\n",
       "       [0.06143968, 0.02166475, 0.01941467, 0.03692206]])"
      ]
     },
     "execution_count": 85,
     "metadata": {},
     "output_type": "execute_result"
    }
   ],
   "source": [
    "test_eta = 0.85\n",
    "# test_eta = 1\n",
    "\n",
    "yy_small_delta_test = [0.08200124, 0.07228198]\n",
    "y_minus_one = np.array([0.35261812, 0.31599562, 0.6009481])\n",
    "zzz = test_eta * np.outer(yy_small_delta_test, np.append(1, y_minus_one))\n",
    "zzz"
   ]
  },
  {
   "cell_type": "markdown",
   "metadata": {},
   "source": [
    "# Formula for Error Computation\n",
    "\n",
    "The instantaneous sum of square errors $\\mathcal{L}(n)$ of the network is\n",
    "\n",
    "$$\n",
    "\\mathcal{L}(n) = \\frac{1}{2} \\sum_{j \\in C} {e_j}^2(n)\n",
    "$$\n",
    "\n",
    "where $C$ is the set of all output neurons of the network. and $e =  y - \\hat{y}$ where $\\hat{y}$ is the predicted output\n",
    "\n",
    "---\n",
    "\n",
    "# General Formula (Eror computation):\n",
    "\n",
    "For the N input patterns in the training set, the average squared error for the entire training set is\n",
    "\n",
    "$$\n",
    "  \\mathcal{L}_{av}  =  \\frac {1}{N}  \\sum _ {n=1}^ {N}  \\mathcal{L}  (n)=  \\frac {1}{2N}  \\sum _ {n=1}^ {N}  \\sum  {e_{j}}^{2} (n)\n",
    "$$\n"
   ]
  }
 ],
 "metadata": {
  "kernelspec": {
   "display_name": "upd_ai_201",
   "language": "python",
   "name": "python3"
  },
  "language_info": {
   "codemirror_mode": {
    "name": "ipython",
    "version": 3
   },
   "file_extension": ".py",
   "mimetype": "text/x-python",
   "name": "python",
   "nbconvert_exporter": "python",
   "pygments_lexer": "ipython3",
   "version": "3.12.0"
  }
 },
 "nbformat": 4,
 "nbformat_minor": 2
}
